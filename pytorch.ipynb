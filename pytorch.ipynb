{
 "cells": [
  {
   "cell_type": "markdown",
   "metadata": {},
   "source": [
    "# Pytorch Tutorial"
   ]
  },
  {
   "cell_type": "markdown",
   "metadata": {},
   "source": [
    "Pytorch is a popular deep learning framework and it's easy to get started."
   ]
  },
  {
   "cell_type": "code",
   "execution_count": 5,
   "metadata": {},
   "outputs": [],
   "source": [
    "import torch\n",
    "# lib optim\n",
    "from torch import optim\n",
    "import torch.nn as nn\n",
    "import torch.utils.data as data\n",
    "import torchvision\n",
    "import torchvision.transforms as transforms # the library for transform of data\n",
    "from tqdm import tqdm\n",
    "from torch.autograd import Variable\n",
    "import time\n",
    "\n",
    "BATCH_SIZE = 128\n",
    "# if u r using simple net, the num_epochs 10~100 have same results.\n",
    "NUM_EPOCHS = 10"
   ]
  },
  {
   "cell_type": "markdown",
   "metadata": {},
   "source": [
    "First, we read the mnist data, preprocess them and encapsulate them into dataloader form."
   ]
  },
  {
   "cell_type": "code",
   "execution_count": 2,
   "metadata": {},
   "outputs": [],
   "source": [
    "# preprocessing\n",
    "normalize = transforms.Normalize(mean=[.5], std=[.5])\n",
    "transform = transforms.Compose([transforms.ToTensor(), normalize])\n",
    "\n",
    "# download and load the data\n",
    "train_dataset = torchvision.datasets.MNIST(root='./mnist/', train=True, transform=transform, download=True)\n",
    "test_dataset = torchvision.datasets.MNIST(root='./mnist/', train=False, transform=transform, download=False)\n",
    "\n",
    "# encapsulate them into dataloader form\n",
    "train_loader = data.DataLoader(train_dataset, batch_size=BATCH_SIZE, shuffle=True, drop_last=True)\n",
    "test_loader = data.DataLoader(test_dataset, batch_size=BATCH_SIZE, shuffle=False, drop_last=True)"
   ]
  },
  {
   "cell_type": "markdown",
   "metadata": {},
   "source": [
    "Then, we define the model, object function and optimizer that we use to classify."
   ]
  },
  {
   "cell_type": "code",
   "execution_count": 6,
   "metadata": {},
   "outputs": [],
   "source": [
    "class SimpleNet(nn.Module):\n",
    "# TODO:define model\n",
    "    def __init__(self, in_dim, n_hidden_1, n_hidden_2, out_dim):\n",
    "        super(SimpleNet, self).__init__()\n",
    "        self.layer1 = nn.Linear(in_dim, n_hidden_1)\n",
    "        self.layer2 = nn.Linear(n_hidden_1, n_hidden_2)\n",
    "        self.layer3 = nn.Linear(n_hidden_2, out_dim)\n",
    "        \n",
    "    def forward(self, x):\n",
    "        x = self.layer1(x)\n",
    "        x = self.layer2(x)\n",
    "        x = self.layer3(x)\n",
    "        return x\n",
    "    \n",
    "# model-2: add activate function:    \n",
    "class Activation_Net(nn.Module):\n",
    "    def __init__(self, in_dim, n_hidden_1, n_hidden_2, out_dim):\n",
    "        super(Activation_Net, self).__init__()\n",
    "        self.layer1 = nn.Sequential(nn.Linear(in_dim, n_hidden_1), nn.ReLU(True))\n",
    "        self.layer2 = nn.Sequential(nn.Linear(n_hidden_1, n_hidden_2), nn.ReLU(True))\n",
    "        self.layer3 = nn.Sequential(nn.Linear(n_hidden_2, out_dim))\n",
    " \n",
    "    def forward(self, x):\n",
    "        x = self.layer1(x)\n",
    "        x = self.layer2(x)\n",
    "        x = self.layer3(x)\n",
    "        return x\n",
    "\n",
    "# model-3: Add Batch Normalization:\n",
    "class Batch_Net(nn.Module):\n",
    "    def __init__(self, in_dim, n_hidden_1, n_hidden_2, out_dim):\n",
    "        super(Batch_Net, self).__init__()\n",
    "        self.layer1 = nn.Sequential(nn.Linear(in_dim, n_hidden_1), nn.BatchNorm1d(n_hidden_1), nn.ReLU(True))\n",
    "        self.layer2 = nn.Sequential(nn.Linear(n_hidden_1, n_hidden_2), nn.BatchNorm1d(n_hidden_2), nn.ReLU(True))\n",
    "        self.layer3 = nn.Sequential(nn.Linear(n_hidden_2, out_dim))\n",
    "    def forward(self, x):\n",
    "        x = self.layer1(x)\n",
    "        x = self.layer2(x)\n",
    "        x = self.layer3(x)\n",
    "        return x\n",
    "    \n",
    "# model = SimpleNet(28*28, 300, 100, 10)\n",
    "# model = Activation_Net(28 * 28, 300, 100, 10)\n",
    "model = Batch_Net(28 * 28, 300, 100, 10)\n",
    "\n",
    "# TODO:define loss function and optimiter\n",
    "criterion = nn.CrossEntropyLoss()\n",
    "optimizer = optim.SGD(model.parameters(), lr=1e-2)"
   ]
  },
  {
   "cell_type": "markdown",
   "metadata": {},
   "source": [
    "Next, we can start to train and evaluate!"
   ]
  },
  {
   "cell_type": "code",
   "execution_count": 35,
   "metadata": {},
   "outputs": [
    {
     "name": "stderr",
     "output_type": "stream",
     "text": [
      "100%|██████████| 468/468 [00:08<00:00, 56.05it/s]\n",
      "100%|██████████| 468/468 [00:08<00:00, 57.16it/s]\n",
      "100%|██████████| 468/468 [00:08<00:00, 55.81it/s]\n",
      "100%|██████████| 468/468 [00:08<00:00, 54.68it/s]\n",
      "100%|██████████| 468/468 [00:09<00:00, 47.58it/s]\n",
      "100%|██████████| 468/468 [00:10<00:00, 45.23it/s]\n",
      "100%|██████████| 468/468 [00:09<00:00, 47.71it/s]\n",
      "100%|██████████| 468/468 [00:09<00:00, 49.24it/s]\n",
      "100%|██████████| 468/468 [00:09<00:00, 50.04it/s]\n",
      "100%|██████████| 468/468 [00:09<00:00, 51.69it/s]\n",
      "100%|██████████| 78/78 [00:01<00:00, 68.22it/s]\n"
     ]
    }
   ],
   "source": [
    "\n",
    "\n",
    "# train and evaluate\n",
    "for epoch in range(NUM_EPOCHS):\n",
    "    for images, labels in tqdm(train_loader):\n",
    "        # TODO:forward + backward + optimize\n",
    "        # forward:\n",
    "        images = images.view(images.size(0), -1)\n",
    "        images = Variable(images)\n",
    "        labels = Variable(labels)\n",
    "        out = model(images)\n",
    "        loss = criterion(out, labels)\n",
    "        # backward: \n",
    "        optimizer.zero_grad()\n",
    "        loss.backward()\n",
    "        optimizer.step()\n",
    "    \n",
    "# evaluate\n",
    "# TODO:calculate the accuracy using traning and testing dataset\n",
    "model.eval()\n",
    "eval_loss = 0\n",
    "eval_acc = 0\n",
    "for images, labels in tqdm(test_loader):\n",
    "    images = images.view(images.size(0),-1)\n",
    "    images = Variable(images)\n",
    "    labels = Variable(labels)\n",
    "    out = model(images)\n",
    "    loss = criterion(out, labels)\n",
    "    eval_loss += loss.data.item()*labels.size(0)\n",
    "    _, pred = torch.max(out, 1)\n",
    "    num_correct = (pred == labels).sum()\n",
    "    eval_acc += num_correct.item()\n"
   ]
  },
  {
   "cell_type": "markdown",
   "metadata": {},
   "source": [
    "#### Q5:\n",
    "Please print the training and testing accuracy."
   ]
  },
  {
   "cell_type": "code",
   "execution_count": 36,
   "metadata": {},
   "outputs": [
    {
     "name": "stdout",
     "output_type": "stream",
     "text": [
      "Using model_1 we have: Test Loss: 0.286384, Acc: 0.918300\n"
     ]
    }
   ],
   "source": [
    "print('Using model_1 we have: Test Loss: {:.6f}, Acc: {:.6f}'.format(\n",
    "    eval_loss / (len(test_dataset)),\n",
    "    eval_acc / (len(test_dataset))\n",
    "))"
   ]
  },
  {
   "cell_type": "markdown",
   "metadata": {},
   "source": [
    "## Back-up cell: Using Model 2"
   ]
  },
  {
   "cell_type": "code",
   "execution_count": 41,
   "metadata": {},
   "outputs": [
    {
     "name": "stderr",
     "output_type": "stream",
     "text": [
      "100%|██████████| 468/468 [00:08<00:00, 55.00it/s]\n",
      "100%|██████████| 468/468 [00:08<00:00, 55.50it/s]\n",
      "100%|██████████| 468/468 [00:08<00:00, 53.92it/s]\n",
      "100%|██████████| 468/468 [00:08<00:00, 53.27it/s]\n",
      "100%|██████████| 468/468 [00:08<00:00, 52.16it/s]\n",
      "100%|██████████| 468/468 [00:09<00:00, 51.35it/s]\n",
      "100%|██████████| 468/468 [00:09<00:00, 49.50it/s]\n",
      "100%|██████████| 468/468 [00:09<00:00, 49.05it/s]\n",
      "100%|██████████| 468/468 [00:09<00:00, 50.81it/s]\n",
      "100%|██████████| 468/468 [00:09<00:00, 50.46it/s]\n",
      "100%|██████████| 78/78 [00:01<00:00, 63.76it/s]"
     ]
    },
    {
     "name": "stdout",
     "output_type": "stream",
     "text": [
      "Test Loss: 0.246158, Acc: 0.926100\n"
     ]
    },
    {
     "name": "stderr",
     "output_type": "stream",
     "text": [
      "\n"
     ]
    }
   ],
   "source": [
    "# train and evaluate\n",
    "for epoch in range(NUM_EPOCHS):\n",
    "    for images, labels in tqdm(train_loader):\n",
    "        # TODO:forward + backward + optimize\n",
    "        # forward:\n",
    "        images = images.view(images.size(0), -1)\n",
    "        images = Variable(images)\n",
    "        labels = Variable(labels)\n",
    "        out = model(images)\n",
    "        loss = criterion(out, labels)\n",
    "        # backward: \n",
    "        optimizer.zero_grad()\n",
    "        loss.backward()\n",
    "        optimizer.step()\n",
    "    \n",
    "# evaluate\n",
    "# TODO:calculate the accuracy using traning and testing dataset\n",
    "model.eval()\n",
    "eval_loss = 0\n",
    "eval_acc = 0\n",
    "for images, labels in tqdm(test_loader):\n",
    "    images = images.view(images.size(0),-1)\n",
    "    images = Variable(images)\n",
    "    labels = Variable(labels)\n",
    "    out = model(images)\n",
    "    loss = criterion(out, labels)\n",
    "    eval_loss += loss.data.item()*labels.size(0)\n",
    "    _, pred = torch.max(out, 1)\n",
    "    num_correct = (pred == labels).sum()\n",
    "    eval_acc += num_correct.item()\n",
    "print('Using model_2 we have: Test Loss: {:.6f}, Acc: {:.6f}'.format(\n",
    "    eval_loss / (len(test_dataset)),\n",
    "    eval_acc / (len(test_dataset))\n",
    "))"
   ]
  },
  {
   "cell_type": "markdown",
   "metadata": {},
   "source": [
    "## Back-up cell: Using Model 3"
   ]
  },
  {
   "cell_type": "code",
   "execution_count": 7,
   "metadata": {},
   "outputs": [
    {
     "name": "stderr",
     "output_type": "stream",
     "text": [
      "100%|██████████| 468/468 [00:10<00:00, 44.63it/s]\n",
      "100%|██████████| 468/468 [00:10<00:00, 45.13it/s]\n",
      "100%|██████████| 468/468 [00:10<00:00, 43.98it/s]\n",
      "100%|██████████| 468/468 [00:11<00:00, 42.22it/s]\n",
      "100%|██████████| 468/468 [00:11<00:00, 41.66it/s]\n",
      "100%|██████████| 468/468 [00:11<00:00, 41.56it/s]\n",
      "100%|██████████| 468/468 [00:11<00:00, 40.95it/s]\n",
      "100%|██████████| 468/468 [00:11<00:00, 41.38it/s]\n",
      "100%|██████████| 468/468 [00:11<00:00, 40.77it/s]\n",
      "100%|██████████| 468/468 [00:11<00:00, 41.47it/s]\n",
      "100%|██████████| 78/78 [00:01<00:00, 63.81it/s]"
     ]
    },
    {
     "name": "stdout",
     "output_type": "stream",
     "text": [
      "Using model_3 we have: Test Loss: 0.077905, Acc: 0.976700\n"
     ]
    },
    {
     "name": "stderr",
     "output_type": "stream",
     "text": [
      "\n"
     ]
    }
   ],
   "source": [
    "# train and evaluate\n",
    "for epoch in range(NUM_EPOCHS):\n",
    "    for images, labels in tqdm(train_loader):\n",
    "        # TODO:forward + backward + optimize\n",
    "        # forward:\n",
    "        images = images.view(images.size(0), -1)\n",
    "        images = Variable(images)\n",
    "        labels = Variable(labels)\n",
    "        out = model(images)\n",
    "        loss = criterion(out, labels)\n",
    "        # backward: \n",
    "        optimizer.zero_grad()\n",
    "        loss.backward()\n",
    "        optimizer.step()\n",
    "    \n",
    "# evaluate\n",
    "# TODO:calculate the accuracy using traning and testing dataset\n",
    "model.eval()\n",
    "eval_loss = 0\n",
    "eval_acc = 0\n",
    "for images, labels in tqdm(test_loader):\n",
    "    images = images.view(images.size(0),-1)\n",
    "    images = Variable(images)\n",
    "    labels = Variable(labels)\n",
    "    out = model(images)\n",
    "    loss = criterion(out, labels)\n",
    "    eval_loss += loss.data.item()*labels.size(0)\n",
    "    _, pred = torch.max(out, 1)\n",
    "    num_correct = (pred == labels).sum()\n",
    "    eval_acc += num_correct.item()\n",
    "    \n",
    "print('Using model_3 we have: Test Loss: {:.6f}, Acc on test_dateset: {:.6f}'.format(\n",
    "    eval_loss / (len(test_dataset)),\n",
    "    eval_acc / (len(test_dataset))\n",
    "))"
   ]
  },
  {
   "cell_type": "code",
   "execution_count": 10,
   "metadata": {},
   "outputs": [
    {
     "name": "stderr",
     "output_type": "stream",
     "text": [
      "100%|██████████| 468/468 [00:06<00:00, 69.41it/s]"
     ]
    },
    {
     "name": "stdout",
     "output_type": "stream",
     "text": [
      "Using model_3 we have: Test Loss: 0.044811, Acc on training_dateset: 0.989633\n"
     ]
    },
    {
     "name": "stderr",
     "output_type": "stream",
     "text": [
      "\n"
     ]
    }
   ],
   "source": [
    "model.eval()\n",
    "eval_loss = 0\n",
    "eval_acc = 0\n",
    "for images, labels in tqdm(train_loader):\n",
    "    images = images.view(images.size(0),-1)\n",
    "    images = Variable(images)\n",
    "    labels = Variable(labels)\n",
    "    out = model(images)\n",
    "    loss = criterion(out, labels)\n",
    "    eval_loss += loss.data.item()*labels.size(0)\n",
    "    _, pred = torch.max(out, 1)\n",
    "    num_correct = (pred == labels).sum()\n",
    "    eval_acc += num_correct.item()\n",
    "    \n",
    "print('Using model_3 we have: Test Loss: {:.6f}, Acc on training_dateset: {:.6f}'.format(\n",
    "    eval_loss / (len(train_dataset)),\n",
    "    eval_acc / (len(train_dataset))\n",
    "))"
   ]
  },
  {
   "cell_type": "code",
   "execution_count": 9,
   "metadata": {},
   "outputs": [
    {
     "name": "stderr",
     "output_type": "stream",
     "text": [
      "100%|██████████| 78/78 [00:01<00:00, 67.90it/s]"
     ]
    },
    {
     "name": "stdout",
     "output_type": "stream",
     "text": [
      "Using model_3 we have: Test Loss: 0.077905, Acc on test_dateset: 0.976700\n"
     ]
    },
    {
     "name": "stderr",
     "output_type": "stream",
     "text": [
      "\n"
     ]
    }
   ],
   "source": [
    "model.eval()\n",
    "eval_loss = 0\n",
    "eval_acc = 0\n",
    "for images, labels in tqdm(test_loader):\n",
    "    images = images.view(images.size(0),-1)\n",
    "    images = Variable(images)\n",
    "    labels = Variable(labels)\n",
    "    out = model(images)\n",
    "    loss = criterion(out, labels)\n",
    "    eval_loss += loss.data.item()*labels.size(0)\n",
    "    _, pred = torch.max(out, 1)\n",
    "    num_correct = (pred == labels).sum()\n",
    "    eval_acc += num_correct.item()\n",
    "    \n",
    "print('Using model_3 we have: Test Loss: {:.6f}, Acc on test_dateset: {:.6f}'.format(\n",
    "    eval_loss / (len(test_dataset)),\n",
    "    eval_acc / (len(test_dataset))\n",
    "))"
   ]
  },
  {
   "cell_type": "code",
   "execution_count": null,
   "metadata": {},
   "outputs": [],
   "source": []
  }
 ],
 "metadata": {
  "kernelspec": {
   "display_name": "Python 3",
   "language": "python",
   "name": "python3"
  },
  "language_info": {
   "codemirror_mode": {
    "name": "ipython",
    "version": 3
   },
   "file_extension": ".py",
   "mimetype": "text/x-python",
   "name": "python",
   "nbconvert_exporter": "python",
   "pygments_lexer": "ipython3",
   "version": "3.7.4"
  }
 },
 "nbformat": 4,
 "nbformat_minor": 2
}
