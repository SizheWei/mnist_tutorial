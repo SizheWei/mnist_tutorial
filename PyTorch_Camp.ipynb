{
 "cells": [
  {
   "cell_type": "code",
   "execution_count": 13,
   "metadata": {},
   "outputs": [
    {
     "name": "stdout",
     "output_type": "stream",
     "text": [
      "a is :tensor([[2., 3.],\n",
      "        [4., 8.],\n",
      "        [7., 9.]])\n",
      "a size is torch.Size([3, 2])\n"
     ]
    }
   ],
   "source": [
    "import torch\n",
    "\n",
    "a = torch.Tensor([[2,3],[4,8],[7,9]])\n",
    "\n",
    "print('a is :{}'.format(a))\n",
    "\n",
    "print('a size is {}'.format(a.size()))"
   ]
  },
  {
   "cell_type": "code",
   "execution_count": 17,
   "metadata": {},
   "outputs": [
    {
     "name": "stdout",
     "output_type": "stream",
     "text": [
      "a is tensor([[2., 3.],\n",
      "        [4., 8.],\n",
      "        [7., 9.]])\n",
      "b size is torch.Size([3, 2])\n"
     ]
    }
   ],
   "source": [
    "b = torch.LongTensor([[2,3],[4,8],[7,9]])\n",
    "print('a is {}'.format(a))\n",
    "print('b size is {}'.format(b.size()))"
   ]
  },
  {
   "cell_type": "code",
   "execution_count": 21,
   "metadata": {},
   "outputs": [
    {
     "name": "stdout",
     "output_type": "stream",
     "text": [
      "c is tensor([[0., 0.],\n",
      "        [0., 0.],\n",
      "        [0., 0.]])\n"
     ]
    }
   ],
   "source": [
    "c = torch.zeros((3,2)) \n",
    "# c = torch.zeros(3,2)  # two lines of codes have the same results of variable c's print\n",
    "print('c is {}'.format(c))"
   ]
  },
  {
   "cell_type": "code",
   "execution_count": 24,
   "metadata": {},
   "outputs": [
    {
     "name": "stdout",
     "output_type": "stream",
     "text": [
      "d is tensor([[-1.0244, -0.9864],\n",
      "        [ 2.1174, -0.2079],\n",
      "        [-0.0616, -0.6877]])\n"
     ]
    }
   ],
   "source": [
    "# d = torch.randn(3,2)\n",
    "d = torch.randn((3,2)) # two lines of codes have the same results of variable d's print\n",
    "print('d is {}'.format(d))"
   ]
  },
  {
   "cell_type": "code",
   "execution_count": null,
   "metadata": {},
   "outputs": [],
   "source": []
  }
 ],
 "metadata": {
  "kernelspec": {
   "display_name": "Python 3",
   "language": "python",
   "name": "python3"
  },
  "language_info": {
   "codemirror_mode": {
    "name": "ipython",
    "version": 3
   },
   "file_extension": ".py",
   "mimetype": "text/x-python",
   "name": "python",
   "nbconvert_exporter": "python",
   "pygments_lexer": "ipython3",
   "version": "3.7.4"
  }
 },
 "nbformat": 4,
 "nbformat_minor": 2
}
