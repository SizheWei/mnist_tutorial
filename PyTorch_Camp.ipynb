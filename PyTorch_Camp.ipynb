{
 "cells": [
  {
   "cell_type": "code",
   "execution_count": 42,
   "metadata": {
    "scrolled": true
   },
   "outputs": [
    {
     "name": "stdout",
     "output_type": "stream",
     "text": [
      "a is :tensor([[2., 3.],\n",
      "        [4., 8.],\n",
      "        [7., 9.]])\n",
      "a size is torch.Size([3, 2])\n",
      "a[2,1] is 9.0\n",
      "changed a is tensor([[  2.,   3.],\n",
      "        [  4.,   8.],\n",
      "        [  7., 100.]])\n"
     ]
    }
   ],
   "source": [
    "import torch\n",
    "import numpy as np\n",
    "from torch.autograd import Variable\n",
    "\n",
    "# create Tensor\n",
    "a = torch.Tensor([[2,3],[4,8],[7,9]])\n",
    "\n",
    "print('a is :{}'.format(a))\n",
    "\n",
    "print('a size is {}'.format(a.size()))\n",
    "print('a[2,1] is {}'.format(a[2,1]))\n",
    "a[2,1] = 100\n",
    "print('changed a is {}'.format(a))"
   ]
  },
  {
   "cell_type": "code",
   "execution_count": 40,
   "metadata": {},
   "outputs": [
    {
     "name": "stdout",
     "output_type": "stream",
     "text": [
      "a is \n",
      " tensor([[  2.,   3.],\n",
      "        [  4.,   8.],\n",
      "        [  7., 100.]])\n",
      "b size is torch.Size([3, 2])\n",
      "conver to numpy is \n",
      " tensor([[2, 3],\n",
      "        [4, 8],\n",
      "        [7, 9]])\n"
     ]
    }
   ],
   "source": [
    "# create different format of Tensor\n",
    "b = torch.LongTensor([[2,3],[4,8],[7,9]])\n",
    "print('a is \\n {}'.format(a))\n",
    "print('b size is {}'.format(b.size()))\n",
    "numpy_b = b.numpy\n",
    "print('conver to numpy is \\n {}'.format(b))"
   ]
  },
  {
   "cell_type": "code",
   "execution_count": 26,
   "metadata": {},
   "outputs": [
    {
     "name": "stdout",
     "output_type": "stream",
     "text": [
      "c is tensor([[0., 0.],\n",
      "        [0., 0.],\n",
      "        [0., 0.]])\n"
     ]
    }
   ],
   "source": [
    "c = torch.zeros((3,2)) \n",
    "# c = torch.zeros(3,2)  # two lines of codes have the same results of variable c's print\n",
    "print('c is {}'.format(c))"
   ]
  },
  {
   "cell_type": "code",
   "execution_count": 27,
   "metadata": {},
   "outputs": [
    {
     "name": "stdout",
     "output_type": "stream",
     "text": [
      "d is tensor([[ 0.5601,  0.8366],\n",
      "        [ 0.6500, -0.9234],\n",
      "        [ 0.6579, -1.0546]])\n"
     ]
    }
   ],
   "source": [
    "# d = torch.randn(3,2)\n",
    "d = torch.randn((3,2)) # two lines of codes have the same results of variable d's print\n",
    "print('d is {}'.format(d))"
   ]
  },
  {
   "cell_type": "code",
   "execution_count": 39,
   "metadata": {},
   "outputs": [
    {
     "name": "stdout",
     "output_type": "stream",
     "text": [
      "from numpy to tensor is \n",
      " tensor([[2, 3],\n",
      "        [4, 5]])\n",
      "change data type to float e is \n",
      " tensor([[2., 3.],\n",
      "        [4., 5.]])\n"
     ]
    }
   ],
   "source": [
    "e = np.array([[2,3],[4,5]])\n",
    "torch_e = torch.from_numpy(e)\n",
    "print('from numpy to tensor is \\n {}'.format(torch_e))\n",
    "f_torch_e = torch_e.float()\n",
    "print('change data type to float e is \\n {}'.format(f_torch_e))"
   ]
  },
  {
   "cell_type": "code",
   "execution_count": 46,
   "metadata": {},
   "outputs": [
    {
     "name": "stdout",
     "output_type": "stream",
     "text": [
      "tensor([2.])\n",
      "tensor([1.])\n",
      "tensor([1.])\n"
     ]
    }
   ],
   "source": [
    "# Section 3.1.2 Variable:\n",
    "\n",
    "# create variable\n",
    "x = Variable(torch.Tensor([1]), requires_grad=True)\n",
    "w = Variable(torch.Tensor([2]), requires_grad=True)\n",
    "b = Variable(torch.Tensor([3]), requires_grad=True)\n",
    "\n",
    "# build a computional graph\n",
    "y = w*x+b\n",
    "\n",
    "# compute gradients\n",
    "y.backward()\n",
    "# print out the gradients\n",
    "print(x.grad)\n",
    "print(w.grad)\n",
    "print(b.grad)"
   ]
  },
  {
   "cell_type": "code",
   "execution_count": 54,
   "metadata": {},
   "outputs": [
    {
     "name": "stdout",
     "output_type": "stream",
     "text": [
      "tensor([ 1.1647,  1.5499, -2.8367], grad_fn=<MulBackward0>)\n",
      "tensor([2.0000, 0.2000, 0.0200])\n"
     ]
    }
   ],
   "source": [
    "x = torch.randn(3)\n",
    "x = Variable(x, requires_grad=True)\n",
    "\n",
    "y = x*2\n",
    "print(y)\n",
    "\n",
    "y.backward(torch.FloatTensor([1, .1, .01]))\n",
    "print(x.grad)"
   ]
  },
  {
   "cell_type": "code",
   "execution_count": 1,
   "metadata": {},
   "outputs": [],
   "source": [
    "# class myDataset(Dataset): \n",
    "#     def __init__(self, csv_file, txt_file, root_dir, other_file) :\n",
    "#         self.csv_data = pd.read_csv(csv_file)\n",
    "#         with open(txt_file, 'r') as f:\n",
    "#             data_list = f.readlines()\n",
    "        "
   ]
  },
  {
   "cell_type": "code",
   "execution_count": null,
   "metadata": {},
   "outputs": [],
   "source": []
  }
 ],
 "metadata": {
  "kernelspec": {
   "display_name": "Python 3",
   "language": "python",
   "name": "python3"
  },
  "language_info": {
   "codemirror_mode": {
    "name": "ipython",
    "version": 3
   },
   "file_extension": ".py",
   "mimetype": "text/x-python",
   "name": "python",
   "nbconvert_exporter": "python",
   "pygments_lexer": "ipython3",
   "version": "3.7.4"
  }
 },
 "nbformat": 4,
 "nbformat_minor": 2
}
